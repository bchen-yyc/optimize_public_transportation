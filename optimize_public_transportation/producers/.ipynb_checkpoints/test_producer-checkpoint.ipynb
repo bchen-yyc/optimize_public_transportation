{
 "cells": [
  {
   "cell_type": "code",
   "execution_count": 1,
   "metadata": {
    "editable": true
   },
   "outputs": [],
   "source": [
    "import pandas as pd"
   ]
  },
  {
   "cell_type": "code",
   "execution_count": 2,
   "metadata": {
    "editable": true
   },
   "outputs": [],
   "source": [
    "from models import Line, Weather, Station, Train, Turnstile"
   ]
  },
  {
   "cell_type": "code",
   "execution_count": 3,
   "metadata": {
    "editable": true
   },
   "outputs": [
    {
     "data": {
      "text/html": [
       "<div>\n",
       "<style scoped>\n",
       "    .dataframe tbody tr th:only-of-type {\n",
       "        vertical-align: middle;\n",
       "    }\n",
       "\n",
       "    .dataframe tbody tr th {\n",
       "        vertical-align: top;\n",
       "    }\n",
       "\n",
       "    .dataframe thead th {\n",
       "        text-align: right;\n",
       "    }\n",
       "</style>\n",
       "<table border=\"1\" class=\"dataframe\">\n",
       "  <thead>\n",
       "    <tr style=\"text-align: right;\">\n",
       "      <th></th>\n",
       "      <th>hour</th>\n",
       "      <th>ridership_ratio</th>\n",
       "    </tr>\n",
       "  </thead>\n",
       "  <tbody>\n",
       "    <tr>\n",
       "      <th>0</th>\n",
       "      <td>0</td>\n",
       "      <td>0.0100</td>\n",
       "    </tr>\n",
       "    <tr>\n",
       "      <th>1</th>\n",
       "      <td>1</td>\n",
       "      <td>0.0100</td>\n",
       "    </tr>\n",
       "    <tr>\n",
       "      <th>2</th>\n",
       "      <td>2</td>\n",
       "      <td>0.0100</td>\n",
       "    </tr>\n",
       "    <tr>\n",
       "      <th>3</th>\n",
       "      <td>3</td>\n",
       "      <td>0.0100</td>\n",
       "    </tr>\n",
       "    <tr>\n",
       "      <th>4</th>\n",
       "      <td>4</td>\n",
       "      <td>0.0125</td>\n",
       "    </tr>\n",
       "  </tbody>\n",
       "</table>\n",
       "</div>"
      ],
      "text/plain": [
       "   hour  ridership_ratio\n",
       "0     0           0.0100\n",
       "1     1           0.0100\n",
       "2     2           0.0100\n",
       "3     3           0.0100\n",
       "4     4           0.0125"
      ]
     },
     "execution_count": 3,
     "metadata": {},
     "output_type": "execute_result"
    }
   ],
   "source": [
    "curve_df = pd.read_csv(\"data/ridership_curve.csv\")\n",
    "curve_df.head(5)"
   ]
  },
  {
   "cell_type": "code",
   "execution_count": 4,
   "metadata": {
    "editable": true
   },
   "outputs": [
    {
     "data": {
      "text/html": [
       "<div>\n",
       "<style scoped>\n",
       "    .dataframe tbody tr th:only-of-type {\n",
       "        vertical-align: middle;\n",
       "    }\n",
       "\n",
       "    .dataframe tbody tr th {\n",
       "        vertical-align: top;\n",
       "    }\n",
       "\n",
       "    .dataframe thead th {\n",
       "        text-align: right;\n",
       "    }\n",
       "</style>\n",
       "<table border=\"1\" class=\"dataframe\">\n",
       "  <thead>\n",
       "    <tr style=\"text-align: right;\">\n",
       "      <th></th>\n",
       "      <th>station_id</th>\n",
       "      <th>stationame</th>\n",
       "      <th>month_beginning</th>\n",
       "      <th>avg_weekday_rides</th>\n",
       "      <th>avg_saturday_rides</th>\n",
       "      <th>avg_sunday-holiday_rides</th>\n",
       "      <th>monthtotal</th>\n",
       "    </tr>\n",
       "  </thead>\n",
       "  <tbody>\n",
       "    <tr>\n",
       "      <th>0</th>\n",
       "      <td>40380</td>\n",
       "      <td>Clark/Lake</td>\n",
       "      <td>10/01/2018</td>\n",
       "      <td>22811.6</td>\n",
       "      <td>6901.8</td>\n",
       "      <td>6233.5</td>\n",
       "      <td>577208</td>\n",
       "    </tr>\n",
       "    <tr>\n",
       "      <th>1</th>\n",
       "      <td>40260</td>\n",
       "      <td>State/Lake</td>\n",
       "      <td>10/01/2018</td>\n",
       "      <td>14098.7</td>\n",
       "      <td>7307.8</td>\n",
       "      <td>5824.5</td>\n",
       "      <td>376799</td>\n",
       "    </tr>\n",
       "    <tr>\n",
       "      <th>2</th>\n",
       "      <td>40200</td>\n",
       "      <td>Randolph/Wabash</td>\n",
       "      <td>10/01/2018</td>\n",
       "      <td>0.0</td>\n",
       "      <td>0.0</td>\n",
       "      <td>0.0</td>\n",
       "      <td>0</td>\n",
       "    </tr>\n",
       "    <tr>\n",
       "      <th>3</th>\n",
       "      <td>41700</td>\n",
       "      <td>Washington/Wabash</td>\n",
       "      <td>10/01/2018</td>\n",
       "      <td>11079.3</td>\n",
       "      <td>5920.0</td>\n",
       "      <td>4248.8</td>\n",
       "      <td>295498</td>\n",
       "    </tr>\n",
       "    <tr>\n",
       "      <th>4</th>\n",
       "      <td>40680</td>\n",
       "      <td>Adams/Wabash</td>\n",
       "      <td>10/01/2018</td>\n",
       "      <td>8448.0</td>\n",
       "      <td>3616.3</td>\n",
       "      <td>4136.0</td>\n",
       "      <td>225312</td>\n",
       "    </tr>\n",
       "  </tbody>\n",
       "</table>\n",
       "</div>"
      ],
      "text/plain": [
       "   station_id         stationame month_beginning  avg_weekday_rides  \\\n",
       "0       40380         Clark/Lake      10/01/2018            22811.6   \n",
       "1       40260         State/Lake      10/01/2018            14098.7   \n",
       "2       40200    Randolph/Wabash      10/01/2018                0.0   \n",
       "3       41700  Washington/Wabash      10/01/2018            11079.3   \n",
       "4       40680       Adams/Wabash      10/01/2018             8448.0   \n",
       "\n",
       "   avg_saturday_rides  avg_sunday-holiday_rides  monthtotal  \n",
       "0              6901.8                    6233.5      577208  \n",
       "1              7307.8                    5824.5      376799  \n",
       "2                 0.0                       0.0           0  \n",
       "3              5920.0                    4248.8      295498  \n",
       "4              3616.3                    4136.0      225312  "
      ]
     },
     "execution_count": 4,
     "metadata": {},
     "output_type": "execute_result"
    }
   ],
   "source": [
    "seed_df = pd.read_csv(\"data/ridership_seed.csv\")\n",
    "seed_df.head(5)"
   ]
  },
  {
   "cell_type": "code",
   "execution_count": 5,
   "metadata": {
    "editable": true
   },
   "outputs": [],
   "source": [
    "raw_df = pd.read_csv(\"data/cta_stations.csv\").sort_values(\"order\")"
   ]
  },
  {
   "cell_type": "code",
   "execution_count": 6,
   "metadata": {
    "editable": true
   },
   "outputs": [
    {
     "data": {
      "text/html": [
       "<div>\n",
       "<style scoped>\n",
       "    .dataframe tbody tr th:only-of-type {\n",
       "        vertical-align: middle;\n",
       "    }\n",
       "\n",
       "    .dataframe tbody tr th {\n",
       "        vertical-align: top;\n",
       "    }\n",
       "\n",
       "    .dataframe thead th {\n",
       "        text-align: right;\n",
       "    }\n",
       "</style>\n",
       "<table border=\"1\" class=\"dataframe\">\n",
       "  <thead>\n",
       "    <tr style=\"text-align: right;\">\n",
       "      <th></th>\n",
       "      <th>stop_id</th>\n",
       "      <th>direction_id</th>\n",
       "      <th>stop_name</th>\n",
       "      <th>station_name</th>\n",
       "      <th>station_descriptive_name</th>\n",
       "      <th>station_id</th>\n",
       "      <th>order</th>\n",
       "      <th>red</th>\n",
       "      <th>blue</th>\n",
       "      <th>green</th>\n",
       "    </tr>\n",
       "  </thead>\n",
       "  <tbody>\n",
       "    <tr>\n",
       "      <th>0</th>\n",
       "      <td>30004</td>\n",
       "      <td>W</td>\n",
       "      <td>Harlem (Terminal arrival)</td>\n",
       "      <td>Harlem/Lake</td>\n",
       "      <td>Harlem/Lake (Green Line)</td>\n",
       "      <td>40020</td>\n",
       "      <td>0</td>\n",
       "      <td>False</td>\n",
       "      <td>False</td>\n",
       "      <td>True</td>\n",
       "    </tr>\n",
       "    <tr>\n",
       "      <th>1</th>\n",
       "      <td>30003</td>\n",
       "      <td>E</td>\n",
       "      <td>Harlem (63rd-bound)</td>\n",
       "      <td>Harlem/Lake</td>\n",
       "      <td>Harlem/Lake (Green Line)</td>\n",
       "      <td>40020</td>\n",
       "      <td>0</td>\n",
       "      <td>False</td>\n",
       "      <td>False</td>\n",
       "      <td>True</td>\n",
       "    </tr>\n",
       "    <tr>\n",
       "      <th>81</th>\n",
       "      <td>30171</td>\n",
       "      <td>N</td>\n",
       "      <td>O'Hare (Terminal Arrival)</td>\n",
       "      <td>O'Hare</td>\n",
       "      <td>O'Hare (Blue Line)</td>\n",
       "      <td>40890</td>\n",
       "      <td>0</td>\n",
       "      <td>False</td>\n",
       "      <td>True</td>\n",
       "      <td>False</td>\n",
       "    </tr>\n",
       "    <tr>\n",
       "      <th>80</th>\n",
       "      <td>30172</td>\n",
       "      <td>S</td>\n",
       "      <td>O'Hare (Forest Pk-bound)</td>\n",
       "      <td>O'Hare</td>\n",
       "      <td>O'Hare (Blue Line)</td>\n",
       "      <td>40890</td>\n",
       "      <td>0</td>\n",
       "      <td>False</td>\n",
       "      <td>True</td>\n",
       "      <td>False</td>\n",
       "    </tr>\n",
       "    <tr>\n",
       "      <th>6</th>\n",
       "      <td>30173</td>\n",
       "      <td>N</td>\n",
       "      <td>Howard (Terminal arrival)</td>\n",
       "      <td>Howard</td>\n",
       "      <td>Howard (Red, Purple &amp; Yellow Lines)</td>\n",
       "      <td>40900</td>\n",
       "      <td>0</td>\n",
       "      <td>True</td>\n",
       "      <td>False</td>\n",
       "      <td>False</td>\n",
       "    </tr>\n",
       "  </tbody>\n",
       "</table>\n",
       "</div>"
      ],
      "text/plain": [
       "    stop_id direction_id                  stop_name station_name  \\\n",
       "0     30004            W  Harlem (Terminal arrival)  Harlem/Lake   \n",
       "1     30003            E        Harlem (63rd-bound)  Harlem/Lake   \n",
       "81    30171            N  O'Hare (Terminal Arrival)       O'Hare   \n",
       "80    30172            S   O'Hare (Forest Pk-bound)       O'Hare   \n",
       "6     30173            N  Howard (Terminal arrival)       Howard   \n",
       "\n",
       "               station_descriptive_name  station_id  order    red   blue  \\\n",
       "0              Harlem/Lake (Green Line)       40020      0  False  False   \n",
       "1              Harlem/Lake (Green Line)       40020      0  False  False   \n",
       "81                   O'Hare (Blue Line)       40890      0  False   True   \n",
       "80                   O'Hare (Blue Line)       40890      0  False   True   \n",
       "6   Howard (Red, Purple & Yellow Lines)       40900      0   True  False   \n",
       "\n",
       "    green  \n",
       "0    True  \n",
       "1    True  \n",
       "81  False  \n",
       "80  False  \n",
       "6   False  "
      ]
     },
     "execution_count": 6,
     "metadata": {},
     "output_type": "execute_result"
    }
   ],
   "source": [
    "raw_df.head(5)"
   ]
  },
  {
   "cell_type": "code",
   "execution_count": 7,
   "metadata": {
    "editable": true
   },
   "outputs": [],
   "source": [
    "station_df = raw_df[raw_df[\"blue\"]]"
   ]
  },
  {
   "cell_type": "code",
   "execution_count": 8,
   "metadata": {
    "editable": true
   },
   "outputs": [],
   "source": [
    "color = Line.colors.blue"
   ]
  },
  {
   "cell_type": "code",
   "execution_count": 9,
   "metadata": {
    "editable": true
   },
   "outputs": [],
   "source": [
    "stations = station_df[\"station_name\"].unique()"
   ]
  },
  {
   "cell_type": "code",
   "execution_count": 10,
   "metadata": {
    "editable": true
   },
   "outputs": [
    {
     "data": {
      "text/plain": [
       "array([\"O'Hare\", 'Rosemont', 'Cumberland', 'Harlem', 'Jefferson Park',\n",
       "       'Montrose', 'Irving Park', 'Addison', 'Belmont', 'Logan Square',\n",
       "       'California', \"Western/O'Hare Branch\", 'Damen', 'Division',\n",
       "       'Chicago', 'Grand', 'Clark/Lake', 'Washington', 'Monroe',\n",
       "       'Jackson', 'LaSalle', 'Clinton', 'UIC-Halsted', 'Racine',\n",
       "       'Illinois Medical District', 'Western/Forest Pk Branch',\n",
       "       'Kedzie-Homan', 'Pulaski', 'Cicero', 'Austin', 'Oak Park',\n",
       "       'Forest Park'], dtype=object)"
      ]
     },
     "execution_count": 10,
     "metadata": {},
     "output_type": "execute_result"
    }
   ],
   "source": [
    "stations"
   ]
  },
  {
   "cell_type": "code",
   "execution_count": 11,
   "metadata": {
    "editable": true
   },
   "outputs": [
    {
     "data": {
      "text/plain": [
       "\"O'Hare\""
      ]
     },
     "execution_count": 11,
     "metadata": {},
     "output_type": "execute_result"
    }
   ],
   "source": [
    "stations[0]"
   ]
  },
  {
   "cell_type": "code",
   "execution_count": 25,
   "metadata": {
    "editable": true
   },
   "outputs": [
    {
     "data": {
      "text/html": [
       "<div>\n",
       "<style scoped>\n",
       "    .dataframe tbody tr th:only-of-type {\n",
       "        vertical-align: middle;\n",
       "    }\n",
       "\n",
       "    .dataframe tbody tr th {\n",
       "        vertical-align: top;\n",
       "    }\n",
       "\n",
       "    .dataframe thead th {\n",
       "        text-align: right;\n",
       "    }\n",
       "</style>\n",
       "<table border=\"1\" class=\"dataframe\">\n",
       "  <thead>\n",
       "    <tr style=\"text-align: right;\">\n",
       "      <th></th>\n",
       "      <th>stop_id</th>\n",
       "      <th>direction_id</th>\n",
       "      <th>stop_name</th>\n",
       "      <th>station_name</th>\n",
       "      <th>station_descriptive_name</th>\n",
       "      <th>station_id</th>\n",
       "      <th>order</th>\n",
       "      <th>red</th>\n",
       "      <th>blue</th>\n",
       "      <th>green</th>\n",
       "    </tr>\n",
       "  </thead>\n",
       "  <tbody>\n",
       "    <tr>\n",
       "      <th>81</th>\n",
       "      <td>30171</td>\n",
       "      <td>N</td>\n",
       "      <td>O'Hare (Terminal Arrival)</td>\n",
       "      <td>O'Hare</td>\n",
       "      <td>O'Hare (Blue Line)</td>\n",
       "      <td>40890</td>\n",
       "      <td>0</td>\n",
       "      <td>False</td>\n",
       "      <td>True</td>\n",
       "      <td>False</td>\n",
       "    </tr>\n",
       "    <tr>\n",
       "      <th>80</th>\n",
       "      <td>30172</td>\n",
       "      <td>S</td>\n",
       "      <td>O'Hare (Forest Pk-bound)</td>\n",
       "      <td>O'Hare</td>\n",
       "      <td>O'Hare (Blue Line)</td>\n",
       "      <td>40890</td>\n",
       "      <td>0</td>\n",
       "      <td>False</td>\n",
       "      <td>True</td>\n",
       "      <td>False</td>\n",
       "    </tr>\n",
       "  </tbody>\n",
       "</table>\n",
       "</div>"
      ],
      "text/plain": [
       "    stop_id direction_id                  stop_name station_name  \\\n",
       "81    30171            N  O'Hare (Terminal Arrival)       O'Hare   \n",
       "80    30172            S   O'Hare (Forest Pk-bound)       O'Hare   \n",
       "\n",
       "   station_descriptive_name  station_id  order    red  blue  green  \n",
       "81       O'Hare (Blue Line)       40890      0  False  True  False  \n",
       "80       O'Hare (Blue Line)       40890      0  False  True  False  "
      ]
     },
     "execution_count": 25,
     "metadata": {},
     "output_type": "execute_result"
    }
   ],
   "source": [
    "station_data = station_df[station_df[\"station_name\"] == stations[0]]\n",
    "station_data"
   ]
  },
  {
   "cell_type": "code",
   "execution_count": 13,
   "metadata": {
    "editable": true
   },
   "outputs": [
    {
     "data": {
      "text/plain": [
       "40890"
      ]
     },
     "execution_count": 13,
     "metadata": {},
     "output_type": "execute_result"
    }
   ],
   "source": [
    "station_id = station_data[\"station_id\"].unique()[0]\n",
    "station_id"
   ]
  },
  {
   "cell_type": "code",
   "execution_count": 14,
   "metadata": {
    "editable": true
   },
   "outputs": [
    {
     "name": "stdout",
     "output_type": "stream",
     "text": [
      "dict_keys(['_schemas', 'connect-configs', '_confluent-ksql-default__command_topic', 'com.udacity.streams.pages', 'connect-status', 'connect-offsets', '__consumer_offsets', 'com.udacity.streams.users', '_confluent-metrics', 'com.udacity.streams.clickevents', 'com.udacity.streams.purchases', '__confluent.support.metrics'])\n",
      "created new topic ohare_arrival!!\n",
      "dict_keys(['_schemas', 'connect-configs', '_confluent-ksql-default__command_topic', 'com.udacity.streams.pages', 'connect-status', 'connect-offsets', '__consumer_offsets', 'com.udacity.streams.users', '_confluent-metrics', 'com.udacity.streams.clickevents', 'com.udacity.streams.purchases', '__confluent.support.metrics'])\n",
      "created new topic ohare_turnstile!!\n"
     ]
    }
   ],
   "source": [
    "station1 = Station(station_id, stations[0], color)"
   ]
  },
  {
   "cell_type": "code",
   "execution_count": 15,
   "metadata": {
    "editable": true
   },
   "outputs": [],
   "source": [
    "station1.dir_a"
   ]
  },
  {
   "cell_type": "code",
   "execution_count": 16,
   "metadata": {
    "editable": true
   },
   "outputs": [],
   "source": [
    "train1 = Train(\"train1\", Train.status.in_service)"
   ]
  },
  {
   "cell_type": "code",
   "execution_count": 17,
   "metadata": {
    "editable": true
   },
   "outputs": [
    {
     "data": {
      "text/plain": [
       "'train1'"
      ]
     },
     "execution_count": 17,
     "metadata": {},
     "output_type": "execute_result"
    }
   ],
   "source": [
    "train1.train_id"
   ]
  },
  {
   "cell_type": "code",
   "execution_count": 18,
   "metadata": {
    "editable": true
   },
   "outputs": [
    {
     "data": {
      "text/plain": [
       "<status.in_service: 1>"
      ]
     },
     "execution_count": 18,
     "metadata": {},
     "output_type": "execute_result"
    }
   ],
   "source": [
    "train1.status"
   ]
  },
  {
   "cell_type": "code",
   "execution_count": 19,
   "metadata": {
    "editable": true
   },
   "outputs": [
    {
     "name": "stdout",
     "output_type": "stream",
     "text": [
      "Train ID train1 is in service\n"
     ]
    }
   ],
   "source": [
    "print(train1)"
   ]
  },
  {
   "cell_type": "code",
   "execution_count": 20,
   "metadata": {
    "editable": true
   },
   "outputs": [
    {
     "name": "stdout",
     "output_type": "stream",
     "text": [
      "Station | 40890 | O'Hare                         | Direction A: |  ---  | departing to ---                            | Direction B: |  ---  | departing to ---                            | \n"
     ]
    }
   ],
   "source": [
    "print(station1)"
   ]
  },
  {
   "cell_type": "code",
   "execution_count": 26,
   "metadata": {
    "editable": true
   },
   "outputs": [
    {
     "name": "stdout",
     "output_type": "stream",
     "text": [
      "dict_keys(['_schemas', 'connect-configs', '_confluent-ksql-default__command_topic', 'com.udacity.streams.pages', 'connect-status', 'connect-offsets', '__consumer_offsets', 'com.udacity.streams.users', '_confluent-metrics', 'ohare_arrival', 'com.udacity.streams.clickevents', 'com.udacity.streams.purchases', '__confluent.support.metrics'])\n",
      "dict_keys(['_schemas', 'connect-configs', '_confluent-ksql-default__command_topic', 'com.udacity.streams.pages', 'connect-status', 'connect-offsets', '__consumer_offsets', 'com.udacity.streams.users', '_confluent-metrics', 'ohare_arrival', 'com.udacity.streams.clickevents', 'com.udacity.streams.purchases', '__confluent.support.metrics'])\n",
      "created new topic ohare_turnstile!!\n"
     ]
    }
   ],
   "source": [
    "stations = station_df[\"station_name\"].unique()\n",
    "\n",
    "station_data = station_df[station_df[\"station_name\"] == stations[0]]\n",
    "line = [\n",
    "    Station(station_data[\"station_id\"].unique()[0], stations[0], color)\n",
    "]\n",
    "prev_station = line[0]\n",
    "for station in stations[1:]:\n",
    "    station_data = station_df[station_df[\"station_name\"] == station]\n",
    "    new_station = Station(\n",
    "        station_data[\"station_id\"].unique()[0],\n",
    "        station,\n",
    "        color,\n",
    "        prev_station,\n",
    "    )\n",
    "    prev_station.dir_b = new_station\n",
    "    prev_station = new_station\n",
    "    line.append(new_station)"
   ]
  },
  {
   "cell_type": "code",
   "execution_count": 32,
   "metadata": {
    "editable": true
   },
   "outputs": [
    {
     "data": {
      "text/plain": [
       "(None,\n",
       " Station | 40820 | Rosemont                       | Direction A: |  ---  | departing to O'Hare                         | Direction B: |  ---  | departing to Cumberland                     | )"
      ]
     },
     "execution_count": 32,
     "metadata": {},
     "output_type": "execute_result"
    }
   ],
   "source": [
    "line[0].dir_a, line[0].dir_b"
   ]
  },
  {
   "cell_type": "code",
   "execution_count": 33,
   "metadata": {
    "editable": true
   },
   "outputs": [
    {
     "data": {
      "text/plain": [
       "(Station | 40890 | O'Hare                         | Direction A: |  ---  | departing to ---                            | Direction B: |  ---  | departing to Rosemont                       | ,\n",
       " Station | 40230 | Cumberland                     | Direction A: |  ---  | departing to Rosemont                       | Direction B: |  ---  | departing to Harlem                         | )"
      ]
     },
     "execution_count": 33,
     "metadata": {},
     "output_type": "execute_result"
    }
   ],
   "source": [
    "line[1].dir_a, line[1].dir_b"
   ]
  },
  {
   "cell_type": "code",
   "execution_count": 34,
   "metadata": {
    "editable": true
   },
   "outputs": [
    {
     "name": "stdout",
     "output_type": "stream",
     "text": [
      "dict_keys(['_schemas', 'connect-configs', '_confluent-ksql-default__command_topic', 'com.udacity.streams.pages', 'connect-status', 'connect-offsets', '__consumer_offsets', 'com.udacity.streams.users', '_confluent-metrics', 'ohare_arrival', 'com.udacity.streams.clickevents', 'com.udacity.streams.purchases', '__confluent.support.metrics'])\n",
      "created new topic rosemont_turnstile!!\n"
     ]
    }
   ],
   "source": [
    "turnstile1 = Turnstile(line[1])"
   ]
  },
  {
   "cell_type": "code",
   "execution_count": null,
   "metadata": {
    "editable": true
   },
   "outputs": [],
   "source": []
  }
 ],
 "metadata": {
  "kernelspec": {
   "display_name": "Python 3",
   "language": "python",
   "name": "python3"
  },
  "language_info": {
   "codemirror_mode": {
    "name": "ipython",
    "version": 3
   },
   "file_extension": ".py",
   "mimetype": "text/x-python",
   "name": "python",
   "nbconvert_exporter": "python",
   "pygments_lexer": "ipython3",
   "version": "3.7.3"
  }
 },
 "nbformat": 4,
 "nbformat_minor": 4
}
